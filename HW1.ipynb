{
 "cells": [
  {
   "cell_type": "markdown",
   "metadata": {
    "slideshow": {
     "slide_type": "subslide"
    }
   },
   "source": [
    "### Exercise 1\n",
    "\n",
    "Recall that $ n! $ is read as “$ n $ factorial” and defined as\n",
    "$ n! = n \\times (n - 1) \\times \\cdots \\times 2 \\times 1 $\n",
    "\n",
    "In Julia you can compute this value with `factorial(n)`\n",
    "\n",
    "Write your own version of this function, called `factorial2`, using a `for` loop\n",
    "\n",
    "\n",
    "<a id='jbe-ex2'></a>"
   ]
  },
  {
   "cell_type": "code",
   "execution_count": 1,
   "metadata": {},
   "outputs": [
    {
     "data": {
      "text/plain": [
       "factorial2 (generic function with 1 method)"
      ]
     },
     "execution_count": 1,
     "metadata": {},
     "output_type": "execute_result"
    }
   ],
   "source": [
    "function factorial2(n)\n",
    "    factorial = 1\n",
    "    for i in 2:n\n",
    "        factorial *= i\n",
    "    end\n",
    "    factorial\n",
    "end    "
   ]
  },
  {
   "cell_type": "code",
   "execution_count": 3,
   "metadata": {},
   "outputs": [
    {
     "data": {
      "text/plain": [
       "3628800"
      ]
     },
     "execution_count": 3,
     "metadata": {},
     "output_type": "execute_result"
    }
   ],
   "source": [
    "factorial2(10)"
   ]
  },
  {
   "cell_type": "markdown",
   "metadata": {
    "slideshow": {
     "slide_type": "subslide"
    }
   },
   "source": [
    "### Exercise 2\n",
    "\n",
    "The [binomial random variable](https://en.wikipedia.org/wiki/Binomial_distribution) $ Y \\sim Bin(n, p) $ represents\n",
    "\n",
    "- number of successes in $ n $ binary trials  \n",
    "- each trial succeeds with probability $ p $  \n",
    "\n",
    "\n",
    "Using only `rand()` from the set of Julia’s built-in random number\n",
    "generators (not the `Distributions` package), write a function `binomial_rv` such that `binomial_rv(n, p)` generates one draw of $ Y $\n",
    "\n",
    "Hint: If $ U $ is uniform on $ (0, 1) $ and $ p \\in (0,1) $, then the expression `U < p` evaluates to `true` with probability $ p $\n",
    "\n",
    "\n",
    "<a id='jbe-ex3'></a>"
   ]
  },
  {
   "cell_type": "code",
   "execution_count": 45,
   "metadata": {},
   "outputs": [
    {
     "data": {
      "text/plain": [
       "binomial_rv (generic function with 1 method)"
      ]
     },
     "execution_count": 45,
     "metadata": {},
     "output_type": "execute_result"
    }
   ],
   "source": [
    "function binomial_rv(n, p)\n",
    "    X = rand(1,n)\n",
    "    binom = zeros(n)\n",
    "    for i in eachindex(binom)\n",
    "        binom[i] = X[i] < p\n",
    "    end\n",
    "    return binom\n",
    "end\n"
   ]
  },
  {
   "cell_type": "code",
   "execution_count": 48,
   "metadata": {},
   "outputs": [
    {
     "data": {
      "text/plain": [
       "100-element Array{Float64,1}:\n",
       " 1.0\n",
       " 1.0\n",
       " 0.0\n",
       " 1.0\n",
       " 1.0\n",
       " 1.0\n",
       " 1.0\n",
       " 1.0\n",
       " 1.0\n",
       " 1.0\n",
       " 1.0\n",
       " 1.0\n",
       " 1.0\n",
       " ⋮  \n",
       " 1.0\n",
       " 0.0\n",
       " 1.0\n",
       " 0.0\n",
       " 1.0\n",
       " 1.0\n",
       " 1.0\n",
       " 1.0\n",
       " 1.0\n",
       " 1.0\n",
       " 1.0\n",
       " 1.0"
      ]
     },
     "execution_count": 48,
     "metadata": {},
     "output_type": "execute_result"
    }
   ],
   "source": [
    "binomial_rv(100, 0.9)"
   ]
  },
  {
   "cell_type": "markdown",
   "metadata": {
    "slideshow": {
     "slide_type": "subslide"
    }
   },
   "source": [
    "### Exercise 3\n",
    "\n",
    "Compute an approximation to $ \\pi $ using Monte Carlo\n",
    "\n",
    "For random number generation use only `rand()`\n",
    "\n",
    "Your hints are as follows:\n",
    "\n",
    "- If $ U $ is a bivariate uniform random variable on the unit square $ (0, 1)^2 $, then the probability that $ U $ lies in a subset $ B $ of $ (0,1)^2 $ is equal to the area of $ B $  \n",
    "- If $ U_1,\\ldots,U_n $ are iid copies of $ U $, then, as $ n $ gets larger, the fraction that falls in $ B $ converges to the probability of landing in $ B $  \n",
    "- For a circle, area = π * $ radius^2 $  \n",
    "\n",
    "\n",
    "\n",
    "<a id='jbe-ex4'></a>"
   ]
  },
  {
   "cell_type": "code",
   "execution_count": 89,
   "metadata": {},
   "outputs": [
    {
     "data": {
      "text/plain": [
       "piest (generic function with 1 method)"
      ]
     },
     "execution_count": 89,
     "metadata": {},
     "output_type": "execute_result"
    }
   ],
   "source": [
    "function piest(n)\n",
    "    radius = 1\n",
    "    U = rand(n,2)\n",
    "    rad = (U[:,1].^2 + U[:,2].^2).^0.5\n",
    "    B = zeros(n)\n",
    "    for i in eachindex(B)\n",
    "        if rad[i] < radius\n",
    "            B[i] = 1\n",
    "        end\n",
    "    end\n",
    "    proba = sum(B)/n\n",
    "    piestim = 4*proba/(radius^2)\n",
    "    return piestim\n",
    "end\n"
   ]
  },
  {
   "cell_type": "code",
   "execution_count": 92,
   "metadata": {},
   "outputs": [
    {
     "data": {
      "text/plain": [
       "3.1484"
      ]
     },
     "execution_count": 92,
     "metadata": {},
     "output_type": "execute_result"
    }
   ],
   "source": [
    "piest(100000)"
   ]
  },
  {
   "cell_type": "markdown",
   "metadata": {
    "slideshow": {
     "slide_type": "subslide"
    }
   },
   "source": [
    "### Exercise 4\n",
    "\n",
    "Write a program that prints one realization of the following random device:\n",
    "\n",
    "- Flip an unbiased coin 10 times  \n",
    "- If 3 consecutive heads occur one or more times within this sequence, pay one dollar  \n",
    "- If not, pay nothing  \n",
    "\n",
    "\n",
    "Once again use only `rand()` as your random number generator\n",
    "\n",
    "\n",
    "<a id='jbe-ex5'></a>"
   ]
  },
  {
   "cell_type": "code",
   "execution_count": 388,
   "metadata": {},
   "outputs": [
    {
     "data": {
      "text/plain": [
       "conseq (generic function with 2 methods)"
      ]
     },
     "execution_count": 388,
     "metadata": {},
     "output_type": "execute_result"
    }
   ],
   "source": [
    "function conseq()\n",
    "    U = rand(0:1,10)\n",
    "    T = 8\n",
    "    test = zeros(8)\n",
    "    for i in eachindex(test)\n",
    "        test[i] = (U[i] + U[i+1] + U[i+2] == 3)\n",
    "    end\n",
    "    return (sum(test) > 0)*1\n",
    "end"
   ]
  },
  {
   "cell_type": "code",
   "execution_count": 417,
   "metadata": {},
   "outputs": [
    {
     "data": {
      "text/plain": [
       "1"
      ]
     },
     "execution_count": 417,
     "metadata": {},
     "output_type": "execute_result"
    }
   ],
   "source": [
    "conseq()"
   ]
  },
  {
   "cell_type": "markdown",
   "metadata": {
    "slideshow": {
     "slide_type": "subslide"
    }
   },
   "source": [
    "### Exercise 5\n",
    "\n",
    "Simulate and plot the correlated time series\n",
    "\n",
    "$$\n",
    "x_{t+1} = \\alpha \\, x_t + \\epsilon_{t+1}\n",
    "\\quad \\text{where} \\quad\n",
    "x_0 = 0\n",
    "\\quad \\text{and} \\quad t = 0,\\ldots,n\n",
    "$$\n",
    "\n",
    "The sequence of shocks $ \\{\\epsilon_t\\} $ is assumed to be iid and standard normal\n",
    "\n",
    "Set $ n = 200 $ and $ \\alpha = 0.9 $\n",
    "\n",
    "\n",
    "<a id='jbe-ex6'></a>"
   ]
  },
  {
   "cell_type": "code",
   "execution_count": 420,
   "metadata": {},
   "outputs": [
    {
     "data": {
      "text/plain": [
       "simu (generic function with 1 method)"
      ]
     },
     "execution_count": 420,
     "metadata": {},
     "output_type": "execute_result"
    }
   ],
   "source": [
    "function simu(n,α)\n",
    "    ϵ = randn(n+1)\n",
    "    X = zeros(n+1)\n",
    "    for i in 1:n\n",
    "        X[i+1] = α*X[i] + ϵ[i+1]\n",
    "    end\n",
    "    return X\n",
    "end"
   ]
  },
  {
   "cell_type": "code",
   "execution_count": 429,
   "metadata": {},
   "outputs": [
    {
     "data": {
      "text/plain": [
       "201-element Array{Float64,1}:\n",
       "  0.0                 \n",
       " -1.5697668819633364  \n",
       " -0.49479573014041867 \n",
       " -1.5612528427070458  \n",
       "  0.8771979956551678  \n",
       "  0.3047605485244334  \n",
       "  0.4188253276456753  \n",
       "  0.36799315960828843 \n",
       " -0.22014882218963558 \n",
       " -0.16039925392751073 \n",
       " -0.44822015790739345 \n",
       "  0.28918442870319083 \n",
       " -1.0105518904263358  \n",
       "  ⋮                   \n",
       "  1.895052330180662   \n",
       "  0.29134251600470057 \n",
       " -1.3182488308638192  \n",
       "  0.18549723489347114 \n",
       " -0.034181376719292354\n",
       "  0.1480217653802179  \n",
       " -0.9686118712787345  \n",
       " -1.4239632316199295  \n",
       "  0.6958963747242779  \n",
       " -1.9860987908348793  \n",
       "  0.2956136326692072  \n",
       "  0.6313554479833248  "
      ]
     },
     "execution_count": 429,
     "metadata": {},
     "output_type": "execute_result"
    }
   ],
   "source": [
    "Y = simu(200,0.9)\n",
    "Y1 = simu(200,0.8)\n",
    "Y2 = simu(200,0.98)\n",
    "Y3 = simu(200,0)"
   ]
  },
  {
   "cell_type": "markdown",
   "metadata": {
    "slideshow": {
     "slide_type": "subslide"
    }
   },
   "source": [
    "### Exercise 6\n",
    "\n",
    "Plot three simulated time series, one for each of the cases $ \\alpha = 0 $, $ \\alpha = 0.8 $ and $ \\alpha = 0.98 $\n",
    "\n",
    "(The figure will illustrate how time series with the same one-step-ahead conditional volatilities, as these three processes have, can have very different unconditional volatilities)\n",
    "\n",
    "\n",
    "<a id='jbe-ex7'></a>"
   ]
  },
  {
   "cell_type": "code",
   "execution_count": 431,
   "metadata": {},
   "outputs": [
    {
     "data": {
      "image/svg+xml": [
       "<?xml version=\"1.0\" encoding=\"utf-8\"?>\n",
       "<svg xmlns=\"http://www.w3.org/2000/svg\" xmlns:xlink=\"http://www.w3.org/1999/xlink\" width=\"600\" height=\"400\" viewBox=\"0 0 2400 1600\">\n",
       "<defs>\n",
       "  <clipPath id=\"clip9100\">\n",
       "    <rect x=\"0\" y=\"0\" width=\"2000\" height=\"2000\"/>\n",
       "  </clipPath>\n",
       "</defs>\n",
       "<defs>\n",
       "  <clipPath id=\"clip9101\">\n",
       "    <rect x=\"0\" y=\"0\" width=\"2400\" height=\"1600\"/>\n",
       "  </clipPath>\n",
       "</defs>\n",
       "<polygon clip-path=\"url(#clip9101)\" points=\"\n",
       "0,1600 2400,1600 2400,0 0,0 \n",
       "  \" fill=\"#ffffff\" fill-rule=\"evenodd\" fill-opacity=\"1\"/>\n",
       "<defs>\n",
       "  <clipPath id=\"clip9102\">\n",
       "    <rect x=\"480\" y=\"0\" width=\"1681\" height=\"1600\"/>\n",
       "  </clipPath>\n",
       "</defs>\n",
       "<polygon clip-path=\"url(#clip9101)\" points=\"\n",
       "149.361,1503.47 2321.26,1503.47 2321.26,47.2441 149.361,47.2441 \n",
       "  \" fill=\"#ffffff\" fill-rule=\"evenodd\" fill-opacity=\"1\"/>\n",
       "<defs>\n",
       "  <clipPath id=\"clip9103\">\n",
       "    <rect x=\"149\" y=\"47\" width=\"2173\" height=\"1457\"/>\n",
       "  </clipPath>\n",
       "</defs>\n",
       "<polyline clip-path=\"url(#clip9103)\" style=\"stroke:#000000; stroke-width:2; stroke-opacity:0.1; fill:none\" points=\"\n",
       "  200.585,1503.47 200.585,47.2441 \n",
       "  \"/>\n",
       "<polyline clip-path=\"url(#clip9103)\" style=\"stroke:#000000; stroke-width:2; stroke-opacity:0.1; fill:none\" points=\"\n",
       "  712.825,1503.47 712.825,47.2441 \n",
       "  \"/>\n",
       "<polyline clip-path=\"url(#clip9103)\" style=\"stroke:#000000; stroke-width:2; stroke-opacity:0.1; fill:none\" points=\"\n",
       "  1225.07,1503.47 1225.07,47.2441 \n",
       "  \"/>\n",
       "<polyline clip-path=\"url(#clip9103)\" style=\"stroke:#000000; stroke-width:2; stroke-opacity:0.1; fill:none\" points=\"\n",
       "  1737.31,1503.47 1737.31,47.2441 \n",
       "  \"/>\n",
       "<polyline clip-path=\"url(#clip9103)\" style=\"stroke:#000000; stroke-width:2; stroke-opacity:0.1; fill:none\" points=\"\n",
       "  2249.55,1503.47 2249.55,47.2441 \n",
       "  \"/>\n",
       "<polyline clip-path=\"url(#clip9103)\" style=\"stroke:#000000; stroke-width:2; stroke-opacity:0.1; fill:none\" points=\"\n",
       "  149.361,1221.77 2321.26,1221.77 \n",
       "  \"/>\n",
       "<polyline clip-path=\"url(#clip9103)\" style=\"stroke:#000000; stroke-width:2; stroke-opacity:0.1; fill:none\" points=\"\n",
       "  149.361,870.959 2321.26,870.959 \n",
       "  \"/>\n",
       "<polyline clip-path=\"url(#clip9103)\" style=\"stroke:#000000; stroke-width:2; stroke-opacity:0.1; fill:none\" points=\"\n",
       "  149.361,520.149 2321.26,520.149 \n",
       "  \"/>\n",
       "<polyline clip-path=\"url(#clip9103)\" style=\"stroke:#000000; stroke-width:2; stroke-opacity:0.1; fill:none\" points=\"\n",
       "  149.361,169.339 2321.26,169.339 \n",
       "  \"/>\n",
       "<polyline clip-path=\"url(#clip9101)\" style=\"stroke:#000000; stroke-width:4; stroke-opacity:1; fill:none\" points=\"\n",
       "  149.361,1503.47 2321.26,1503.47 \n",
       "  \"/>\n",
       "<polyline clip-path=\"url(#clip9101)\" style=\"stroke:#000000; stroke-width:4; stroke-opacity:1; fill:none\" points=\"\n",
       "  149.361,1503.47 149.361,47.2441 \n",
       "  \"/>\n",
       "<polyline clip-path=\"url(#clip9101)\" style=\"stroke:#000000; stroke-width:4; stroke-opacity:1; fill:none\" points=\"\n",
       "  200.585,1503.47 200.585,1481.63 \n",
       "  \"/>\n",
       "<polyline clip-path=\"url(#clip9101)\" style=\"stroke:#000000; stroke-width:4; stroke-opacity:1; fill:none\" points=\"\n",
       "  712.825,1503.47 712.825,1481.63 \n",
       "  \"/>\n",
       "<polyline clip-path=\"url(#clip9101)\" style=\"stroke:#000000; stroke-width:4; stroke-opacity:1; fill:none\" points=\"\n",
       "  1225.07,1503.47 1225.07,1481.63 \n",
       "  \"/>\n",
       "<polyline clip-path=\"url(#clip9101)\" style=\"stroke:#000000; stroke-width:4; stroke-opacity:1; fill:none\" points=\"\n",
       "  1737.31,1503.47 1737.31,1481.63 \n",
       "  \"/>\n",
       "<polyline clip-path=\"url(#clip9101)\" style=\"stroke:#000000; stroke-width:4; stroke-opacity:1; fill:none\" points=\"\n",
       "  2249.55,1503.47 2249.55,1481.63 \n",
       "  \"/>\n",
       "<polyline clip-path=\"url(#clip9101)\" style=\"stroke:#000000; stroke-width:4; stroke-opacity:1; fill:none\" points=\"\n",
       "  149.361,1221.77 181.939,1221.77 \n",
       "  \"/>\n",
       "<polyline clip-path=\"url(#clip9101)\" style=\"stroke:#000000; stroke-width:4; stroke-opacity:1; fill:none\" points=\"\n",
       "  149.361,870.959 181.939,870.959 \n",
       "  \"/>\n",
       "<polyline clip-path=\"url(#clip9101)\" style=\"stroke:#000000; stroke-width:4; stroke-opacity:1; fill:none\" points=\"\n",
       "  149.361,520.149 181.939,520.149 \n",
       "  \"/>\n",
       "<polyline clip-path=\"url(#clip9101)\" style=\"stroke:#000000; stroke-width:4; stroke-opacity:1; fill:none\" points=\"\n",
       "  149.361,169.339 181.939,169.339 \n",
       "  \"/>\n",
       "<g clip-path=\"url(#clip9101)\">\n",
       "<text style=\"fill:#000000; fill-opacity:1; font-family:Arial,Helvetica Neue,Helvetica,sans-serif; font-size:48px; text-anchor:middle;\" transform=\"rotate(0, 200.585, 1557.47)\" x=\"200.585\" y=\"1557.47\">0</text>\n",
       "</g>\n",
       "<g clip-path=\"url(#clip9101)\">\n",
       "<text style=\"fill:#000000; fill-opacity:1; font-family:Arial,Helvetica Neue,Helvetica,sans-serif; font-size:48px; text-anchor:middle;\" transform=\"rotate(0, 712.825, 1557.47)\" x=\"712.825\" y=\"1557.47\">50</text>\n",
       "</g>\n",
       "<g clip-path=\"url(#clip9101)\">\n",
       "<text style=\"fill:#000000; fill-opacity:1; font-family:Arial,Helvetica Neue,Helvetica,sans-serif; font-size:48px; text-anchor:middle;\" transform=\"rotate(0, 1225.07, 1557.47)\" x=\"1225.07\" y=\"1557.47\">100</text>\n",
       "</g>\n",
       "<g clip-path=\"url(#clip9101)\">\n",
       "<text style=\"fill:#000000; fill-opacity:1; font-family:Arial,Helvetica Neue,Helvetica,sans-serif; font-size:48px; text-anchor:middle;\" transform=\"rotate(0, 1737.31, 1557.47)\" x=\"1737.31\" y=\"1557.47\">150</text>\n",
       "</g>\n",
       "<g clip-path=\"url(#clip9101)\">\n",
       "<text style=\"fill:#000000; fill-opacity:1; font-family:Arial,Helvetica Neue,Helvetica,sans-serif; font-size:48px; text-anchor:middle;\" transform=\"rotate(0, 2249.55, 1557.47)\" x=\"2249.55\" y=\"1557.47\">200</text>\n",
       "</g>\n",
       "<g clip-path=\"url(#clip9101)\">\n",
       "<text style=\"fill:#000000; fill-opacity:1; font-family:Arial,Helvetica Neue,Helvetica,sans-serif; font-size:48px; text-anchor:end;\" transform=\"rotate(0, 125.361, 1239.27)\" x=\"125.361\" y=\"1239.27\">-5</text>\n",
       "</g>\n",
       "<g clip-path=\"url(#clip9101)\">\n",
       "<text style=\"fill:#000000; fill-opacity:1; font-family:Arial,Helvetica Neue,Helvetica,sans-serif; font-size:48px; text-anchor:end;\" transform=\"rotate(0, 125.361, 888.459)\" x=\"125.361\" y=\"888.459\">0</text>\n",
       "</g>\n",
       "<g clip-path=\"url(#clip9101)\">\n",
       "<text style=\"fill:#000000; fill-opacity:1; font-family:Arial,Helvetica Neue,Helvetica,sans-serif; font-size:48px; text-anchor:end;\" transform=\"rotate(0, 125.361, 537.649)\" x=\"125.361\" y=\"537.649\">5</text>\n",
       "</g>\n",
       "<g clip-path=\"url(#clip9101)\">\n",
       "<text style=\"fill:#000000; fill-opacity:1; font-family:Arial,Helvetica Neue,Helvetica,sans-serif; font-size:48px; text-anchor:end;\" transform=\"rotate(0, 125.361, 186.839)\" x=\"125.361\" y=\"186.839\">10</text>\n",
       "</g>\n",
       "<polyline clip-path=\"url(#clip9103)\" style=\"stroke:#009af9; stroke-width:4; stroke-opacity:1; fill:none\" points=\"\n",
       "  210.829,870.959 221.074,902.362 231.319,975.708 241.564,902.536 251.809,976.04 262.053,993.649 272.298,1010.57 282.543,1028.8 292.788,940.162 303.033,939.24 \n",
       "  313.278,954.995 323.522,975.16 333.767,975.497 344.012,981.363 354.257,1089.8 364.502,1087.77 374.746,1014.62 384.991,972.877 395.236,957.521 405.481,913.428 \n",
       "  415.726,887.368 425.97,936.355 436.215,1075.88 446.46,1064.64 456.705,1246.42 466.95,1126.64 477.194,1035.71 487.439,1076.48 497.684,1119.68 507.929,1045.05 \n",
       "  518.174,963.406 528.418,1062.6 538.663,1129.41 548.908,1112.86 559.153,1079.06 569.398,1040.28 579.643,996.114 589.887,975.102 600.132,1037.25 610.377,1057.14 \n",
       "  620.622,1055.79 630.867,982.155 641.111,994.806 651.356,878.096 661.601,827.539 671.846,743.053 682.091,928.056 692.335,787.917 702.58,862.26 712.825,866.724 \n",
       "  723.07,864.076 733.315,808.417 743.559,928.634 753.804,856.697 764.049,1038.79 774.294,982.843 784.539,950.503 794.783,942.535 805.028,1093.12 815.273,1150.37 \n",
       "  825.518,989.427 835.763,889.969 846.008,824.773 856.252,872.955 866.497,762.439 876.742,642.919 886.987,677.679 897.232,730.782 907.476,612.11 917.721,679.966 \n",
       "  927.966,561.985 938.211,643.322 948.456,680.121 958.7,637.281 968.945,709.462 979.19,661.241 989.435,506.872 999.68,601.378 1009.92,628.432 1020.17,543.726 \n",
       "  1030.41,490.339 1040.66,525.585 1050.9,620.952 1061.15,609.027 1071.39,544.09 1081.64,588.867 1091.88,784.959 1102.13,796.521 1112.37,842.794 1122.62,859.177 \n",
       "  1132.86,782.986 1143.11,690.771 1153.35,671.127 1163.6,722.414 1173.84,608.382 1184.09,608.43 1194.33,678.766 1204.58,662.759 1214.82,824.336 1225.07,668.505 \n",
       "  1235.31,683.072 1245.56,736.125 1255.8,891.818 1266.04,942.078 1276.29,977.317 1286.53,982.575 1296.78,888.151 1307.02,846.69 1317.27,823.558 1327.51,819.914 \n",
       "  1337.76,884.213 1348,817.626 1358.25,893.727 1368.49,867.506 1378.74,979.89 1388.98,981.619 1399.23,920.402 1409.47,929.886 1419.72,989.809 1429.96,991.186 \n",
       "  1440.21,930.441 1450.45,942.544 1460.7,1112.91 1470.94,1020.77 1481.19,927.426 1491.43,917.605 1501.68,807.913 1511.92,837.184 1522.16,845.718 1532.41,887.946 \n",
       "  1542.65,903.219 1552.9,919.511 1563.14,788.618 1573.39,772.13 1583.63,791.868 1593.88,864.767 1604.12,882.218 1614.37,966.207 1624.61,914.434 1634.86,900.28 \n",
       "  1645.1,887.546 1655.35,821.642 1665.59,817.502 1675.84,789.243 1686.08,811.384 1696.33,874.747 1706.57,835.003 1716.82,848.911 1727.06,777.911 1737.31,637.92 \n",
       "  1747.55,758.731 1757.8,600.297 1768.04,557.209 1778.29,518.901 1788.53,602.689 1798.77,580.123 1809.02,513.525 1819.26,438.132 1829.51,503.578 1839.75,447.898 \n",
       "  1850,556.261 1860.24,514.957 1870.49,514.618 1880.73,558.096 1890.98,509.832 1901.22,637.942 1911.47,659.884 1921.71,855.868 1931.96,774.809 1942.2,689.491 \n",
       "  1952.45,705.186 1962.69,735.605 1972.94,883.529 1983.18,908.602 1993.43,980.081 2003.67,940.826 2013.92,956.241 2024.16,990.365 2034.41,936.51 2044.65,901.571 \n",
       "  2054.89,792.596 2065.14,881.154 2075.38,876.842 2085.63,951.151 2095.87,900.51 2106.12,867.054 2116.36,907.88 2126.61,973.773 2136.85,992.573 2147.1,969.027 \n",
       "  2157.34,986.714 2167.59,970.885 2177.83,939.034 2188.08,946.815 2198.32,890.352 2208.57,913.62 2218.81,865.32 2229.06,778.848 2239.3,761.797 2249.55,716.284 \n",
       "  2259.79,784.244 \n",
       "  \"/>\n",
       "<polyline clip-path=\"url(#clip9103)\" style=\"stroke:#e26f46; stroke-width:4; stroke-opacity:1; fill:none\" points=\"\n",
       "  210.829,870.959 221.074,836.499 231.319,935.301 241.564,910.094 251.809,871.208 262.053,903.808 272.298,944.483 282.543,917.264 292.788,750.317 303.033,809.609 \n",
       "  313.278,964.61 323.522,975.539 333.767,948.247 344.012,795.063 354.257,780.667 364.502,767.645 374.746,752.869 384.991,833.761 395.236,829.996 405.481,786.79 \n",
       "  415.726,890.39 425.97,773.543 436.215,890.477 446.46,888.045 456.705,914.479 466.95,921.645 477.194,998.751 487.439,1024.17 497.684,1029.76 507.929,969.613 \n",
       "  518.174,970.62 528.418,1012.59 538.663,907.728 548.908,952.552 559.153,1005.8 569.398,1027.49 579.643,1051.01 589.887,953.617 600.132,850.424 610.377,835.521 \n",
       "  620.622,862.506 630.867,1030.15 641.111,1047.76 651.356,934.129 661.601,946.091 671.846,1002.27 682.091,1031.96 692.335,1062.99 702.58,1081.69 712.825,1061.61 \n",
       "  723.07,982.553 733.315,1059.9 743.559,1045.67 753.804,1004.29 764.049,1041.5 774.294,1047.68 784.539,1122.84 794.783,994.381 805.028,1104.38 815.273,1035.56 \n",
       "  825.518,1095.25 835.763,1243.7 846.008,1237.71 856.252,1171.39 866.497,1083.95 876.742,1133.18 886.987,1162.16 897.232,991.76 907.476,984.42 917.721,936.153 \n",
       "  927.966,945.685 938.211,958.169 948.456,905.174 958.7,888.09 968.945,870.69 979.19,879.028 989.435,755.486 999.68,710.362 1009.92,769.573 1020.17,882.852 \n",
       "  1030.41,778.242 1040.66,863.16 1050.9,862.198 1061.15,864.527 1071.39,802.53 1081.64,711.167 1091.88,642.579 1102.13,560.479 1112.37,644.741 1122.62,590.122 \n",
       "  1132.86,603.02 1143.11,781.811 1153.35,790.599 1163.6,826.882 1173.84,775.673 1184.09,703.328 1194.33,658.276 1204.58,609.456 1214.82,654.491 1225.07,696.004 \n",
       "  1235.31,693.792 1245.56,797.707 1255.8,851.95 1266.04,869.651 1276.29,936.897 1286.53,868.84 1296.78,861.157 1307.02,843.16 1317.27,726.255 1327.51,836.148 \n",
       "  1337.76,808.468 1348,962.97 1358.25,863.267 1368.49,710.632 1378.74,726.635 1388.98,672.23 1399.23,641.612 1409.47,696.379 1419.72,698.201 1429.96,732.587 \n",
       "  1440.21,743.085 1450.45,812.363 1460.7,712.318 1470.94,683.524 1481.19,786.813 1491.43,890.085 1501.68,919.642 1511.92,881.692 1522.16,889.611 1532.41,890.655 \n",
       "  1542.65,966.988 1552.9,910.056 1563.14,794.625 1573.39,738.196 1583.63,734.818 1593.88,826.645 1604.12,860.158 1614.37,923.088 1624.61,903.725 1634.86,930.549 \n",
       "  1645.1,943.42 1655.35,983.314 1665.59,1055.75 1675.84,969.736 1686.08,816.292 1696.33,853.148 1706.57,903.523 1716.82,834.995 1727.06,803.038 1737.31,865.026 \n",
       "  1747.55,1007.92 1757.8,969.852 1768.04,954.169 1778.29,925.203 1788.53,763.959 1798.77,755.48 1809.02,786.397 1819.26,773.397 1829.51,849.991 1839.75,888.267 \n",
       "  1850,920.219 1860.24,878.967 1870.49,834.845 1880.73,977.658 1890.98,903.492 1901.22,794.74 1911.47,848.309 1921.71,903.16 1931.96,974.05 1942.2,954.522 \n",
       "  1952.45,949.403 1962.69,982.402 1972.94,1009.12 1983.18,1066.65 1993.43,1029.17 2003.67,900.65 2013.92,807.697 2024.16,861.328 2034.41,844.693 2044.65,880.202 \n",
       "  2054.89,855.836 2065.14,671.577 2075.38,794.215 2085.63,884.143 2095.87,932.115 2106.12,1020 2116.36,991.517 2126.61,884.985 2136.85,772.207 2147.1,777.423 \n",
       "  2157.34,661.824 2167.59,749.962 2177.83,840.613 2188.08,820.416 2198.32,745.515 2208.57,883.442 2218.81,899.096 2229.06,705.472 2239.3,762.676 2249.55,890.15 \n",
       "  2259.79,776.398 \n",
       "  \"/>\n",
       "<polyline clip-path=\"url(#clip9103)\" style=\"stroke:#3da44d; stroke-width:4; stroke-opacity:1; fill:none\" points=\"\n",
       "  210.829,870.959 221.074,845.398 231.319,777.1 241.564,774.662 251.809,683.255 262.053,526.385 272.298,701.322 282.543,602.45 292.788,568.943 303.033,527.506 \n",
       "  313.278,620.283 323.522,656.367 333.767,616.055 344.012,579.607 354.257,523.512 364.502,575.222 374.746,673.44 384.991,602.805 395.236,470.997 405.481,417.21 \n",
       "  415.726,490.916 425.97,429.509 436.215,363.89 446.46,300.305 456.705,143.357 466.95,140.929 477.194,120.593 487.439,88.4582 497.684,162.546 507.929,218.349 \n",
       "  518.174,300.965 528.418,315.626 538.663,366.865 548.908,367.63 559.153,371.024 569.398,257.423 579.643,299.858 589.887,499.611 600.132,436.964 610.377,457.721 \n",
       "  620.622,548.942 630.867,635.419 641.111,638.186 651.356,670.826 661.601,721.564 671.846,767.694 682.091,767.635 692.335,790 702.58,856.095 712.825,821.005 \n",
       "  723.07,764.746 733.315,726.787 743.559,675.962 753.804,687.668 764.049,712.575 774.294,698.556 784.539,623.907 794.783,706.038 805.028,738.455 815.273,722.623 \n",
       "  825.518,698.988 835.763,758.894 846.008,702.44 856.252,562.561 866.497,464.315 876.742,559.104 886.987,575.998 897.232,676.165 907.476,641.697 917.721,775.684 \n",
       "  927.966,736.387 938.211,795.182 948.456,819.58 958.7,857.063 968.945,908.934 979.19,838.125 989.435,810.635 999.68,632.01 1009.92,670.666 1020.17,715.595 \n",
       "  1030.41,636.217 1040.66,647.187 1050.9,722.016 1061.15,680.881 1071.39,624.413 1081.64,646.576 1091.88,607.009 1102.13,578.456 1112.37,566.16 1122.62,578.063 \n",
       "  1132.86,623.468 1143.11,577.987 1153.35,614.802 1163.6,624.645 1173.84,639.796 1184.09,686.413 1194.33,621.509 1204.58,682.222 1214.82,741.863 1225.07,892.446 \n",
       "  1235.31,909.666 1245.56,939.708 1255.8,929.48 1266.04,915.364 1276.29,900.221 1286.53,930.494 1296.78,916.228 1307.02,1037.05 1317.27,999.21 1327.51,960.505 \n",
       "  1337.76,1028.11 1348,952.756 1358.25,1039.76 1368.49,926.734 1378.74,926.933 1388.98,982.623 1399.23,956.904 1409.47,975.05 1419.72,897.515 1429.96,849.592 \n",
       "  1440.21,936.749 1450.45,1136.66 1460.7,1159.74 1470.94,1061.17 1481.19,1097.39 1491.43,1141.86 1501.68,1020.91 1511.92,988.327 1522.16,1034.22 1532.41,1155.55 \n",
       "  1542.65,1162.73 1552.9,1075.46 1563.14,932.566 1573.39,831.126 1583.63,873.427 1593.88,752.751 1604.12,750.102 1614.37,907.929 1624.61,875.44 1634.86,953.445 \n",
       "  1645.1,790.633 1655.35,786.734 1665.59,879.808 1675.84,812.071 1686.08,769.71 1696.33,785.944 1706.57,843.705 1716.82,894.631 1727.06,991.358 1737.31,1101.73 \n",
       "  1747.55,903.941 1757.8,891.75 1768.04,842.741 1778.29,775.198 1788.53,638.508 1798.77,626.806 1809.02,747.247 1819.26,790.792 1829.51,785.663 1839.75,571.023 \n",
       "  1850,491.3 1860.24,581.247 1870.49,670.872 1880.73,700.893 1890.98,762.503 1901.22,743.314 1911.47,858.044 1921.71,916.55 1931.96,954.18 1942.2,958.846 \n",
       "  1952.45,1040.86 1962.69,1102.43 1972.94,1042.47 1983.18,1125.57 1993.43,1183.31 2003.67,1271.02 2013.92,1294.12 2024.16,1374.56 2034.41,1344.16 2044.65,1462.26 \n",
       "  2054.89,1418.79 2065.14,1351.43 2075.38,1434.28 2085.63,1431.84 2095.87,1369.3 2106.12,1314.35 2116.36,1335.69 2126.61,1290.71 2136.85,1296.46 2147.1,1307.92 \n",
       "  2157.34,1254.54 2167.59,1130.47 2177.83,1160.17 2188.08,1083.26 2198.32,1106.51 2208.57,1099.13 2218.81,1070.2 2229.06,1112.72 2239.3,1098.09 2249.55,1060.71 \n",
       "  2259.79,1026.78 \n",
       "  \"/>\n",
       "<polyline clip-path=\"url(#clip9103)\" style=\"stroke:#c271d2; stroke-width:4; stroke-opacity:1; fill:none\" points=\"\n",
       "  210.829,870.959 221.074,981.097 231.319,905.675 241.564,980.5 251.809,809.413 262.053,849.576 272.298,841.573 282.543,845.14 292.788,886.405 303.033,882.213 \n",
       "  313.278,902.407 323.522,850.669 333.767,941.861 344.012,859.885 354.257,900.633 364.502,923.239 374.746,841.659 384.991,766.258 395.236,903.553 405.481,918.054 \n",
       "  415.726,753.572 425.97,846.15 436.215,856.527 446.46,885.459 456.705,917.744 466.95,815.39 477.194,1000.53 487.439,918.522 497.684,850.685 507.929,855.736 \n",
       "  518.174,848.191 528.418,886.966 538.663,911.65 548.908,859.656 559.153,967.207 569.398,910.106 579.643,945.737 589.887,903.064 600.132,787.457 610.377,894.064 \n",
       "  620.622,895.589 630.867,909.469 641.111,934.346 651.356,782.141 661.601,830.311 671.846,977.005 682.091,867.609 692.335,968.58 702.58,737.632 712.825,909.815 \n",
       "  723.07,776.939 733.315,878.568 743.559,803.685 753.804,819.445 764.049,779.428 774.294,794.456 784.539,928.846 794.783,809.39 805.028,755.329 815.273,937.655 \n",
       "  825.518,910.936 835.763,968.201 846.008,912.246 856.252,859.436 866.497,888.475 876.742,873.554 886.987,892.465 897.232,827.108 907.476,876.874 917.721,822.697 \n",
       "  927.966,829.404 938.211,909.78 948.456,873.421 958.7,827.396 968.945,945.125 979.19,982.158 989.435,805.268 999.68,857.06 1009.92,804.728 1020.17,908.55 \n",
       "  1030.41,973.912 1040.66,814.608 1050.9,828.933 1061.15,851.07 1071.39,939.133 1081.64,709.615 1091.88,826.394 1102.13,867.104 1112.37,901.917 1122.62,879.522 \n",
       "  1132.86,980.068 1143.11,942.566 1153.35,860.697 1163.6,1047.83 1173.84,778.358 1184.09,868.832 1194.33,725.032 1204.58,949.391 1214.82,885.039 1225.07,922.626 \n",
       "  1235.31,875.061 1245.56,929.551 1255.8,938.789 1266.04,840.516 1276.29,952.136 1286.53,832.604 1296.78,896.877 1307.02,885.05 1317.27,970.796 1327.51,786.563 \n",
       "  1337.76,836.912 1348,975.702 1358.25,840.681 1368.49,830.833 1378.74,905.224 1388.98,810.374 1399.23,943.628 1409.47,805.059 1419.72,773.937 1429.96,857.724 \n",
       "  1440.21,854.664 1450.45,917.468 1460.7,928.371 1470.94,899.802 1481.19,909.792 1491.43,981.488 1501.68,985.228 1511.92,868.292 1522.16,742.777 1532.41,896.53 \n",
       "  1542.65,895.694 1552.9,849.153 1563.14,831.398 1573.39,798.602 1583.63,963.592 1593.88,797.436 1604.12,748.198 1614.37,825.045 1624.61,889.523 1634.86,916.329 \n",
       "  1645.1,904.598 1655.35,929.393 1665.59,803.086 1675.84,844.858 1686.08,846.842 1696.33,823.163 1706.57,797.407 1716.82,689.54 1727.06,956.464 1737.31,914.751 \n",
       "  1747.55,1091.31 1757.8,912.721 1768.04,989.615 1778.29,883.314 1788.53,850.248 1798.77,970.843 1809.02,835.992 1819.26,739.424 1829.51,928.29 1839.75,831.756 \n",
       "  1850,803.049 1860.24,971.745 1870.49,868.5 1880.73,958.196 1890.98,826.51 1901.22,941.206 1911.47,872.091 1921.71,932.253 1931.96,927.538 1942.2,959.715 \n",
       "  1952.45,932.555 1962.69,978.46 1972.94,943.037 1983.18,867.919 1993.43,887.66 2003.67,875.887 2013.92,867.22 2024.16,775.929 2034.41,906.143 2044.65,841.904 \n",
       "  2054.89,778.086 2065.14,939.491 2075.38,776.886 2085.63,886.59 2095.87,764.725 2106.12,1049.06 2116.36,780.448 2126.61,896.526 2136.85,794.311 2147.1,737.998 \n",
       "  2157.34,850.518 2167.59,963.45 2177.83,857.944 2188.08,873.357 2198.32,860.573 2208.57,938.919 2218.81,970.867 2229.06,822.133 2239.3,1010.31 2249.55,850.218 \n",
       "  2259.79,826.662 \n",
       "  \"/>\n",
       "<polygon clip-path=\"url(#clip9101)\" points=\"\n",
       "1958.43,433.164 2249.26,433.164 2249.26,130.764 1958.43,130.764 \n",
       "  \" fill=\"#ffffff\" fill-rule=\"evenodd\" fill-opacity=\"1\"/>\n",
       "<polyline clip-path=\"url(#clip9101)\" style=\"stroke:#000000; stroke-width:4; stroke-opacity:1; fill:none\" points=\"\n",
       "  1958.43,433.164 2249.26,433.164 2249.26,130.764 1958.43,130.764 1958.43,433.164 \n",
       "  \"/>\n",
       "<polyline clip-path=\"url(#clip9101)\" style=\"stroke:#009af9; stroke-width:4; stroke-opacity:1; fill:none\" points=\"\n",
       "  1982.43,191.244 2126.43,191.244 \n",
       "  \"/>\n",
       "<g clip-path=\"url(#clip9101)\">\n",
       "<text style=\"fill:#000000; fill-opacity:1; font-family:Arial,Helvetica Neue,Helvetica,sans-serif; font-size:48px; text-anchor:start;\" transform=\"rotate(0, 2150.43, 208.744)\" x=\"2150.43\" y=\"208.744\">y1</text>\n",
       "</g>\n",
       "<polyline clip-path=\"url(#clip9101)\" style=\"stroke:#e26f46; stroke-width:4; stroke-opacity:1; fill:none\" points=\"\n",
       "  1982.43,251.724 2126.43,251.724 \n",
       "  \"/>\n",
       "<g clip-path=\"url(#clip9101)\">\n",
       "<text style=\"fill:#000000; fill-opacity:1; font-family:Arial,Helvetica Neue,Helvetica,sans-serif; font-size:48px; text-anchor:start;\" transform=\"rotate(0, 2150.43, 269.224)\" x=\"2150.43\" y=\"269.224\">y2</text>\n",
       "</g>\n",
       "<polyline clip-path=\"url(#clip9101)\" style=\"stroke:#3da44d; stroke-width:4; stroke-opacity:1; fill:none\" points=\"\n",
       "  1982.43,312.204 2126.43,312.204 \n",
       "  \"/>\n",
       "<g clip-path=\"url(#clip9101)\">\n",
       "<text style=\"fill:#000000; fill-opacity:1; font-family:Arial,Helvetica Neue,Helvetica,sans-serif; font-size:48px; text-anchor:start;\" transform=\"rotate(0, 2150.43, 329.704)\" x=\"2150.43\" y=\"329.704\">y3</text>\n",
       "</g>\n",
       "<polyline clip-path=\"url(#clip9101)\" style=\"stroke:#c271d2; stroke-width:4; stroke-opacity:1; fill:none\" points=\"\n",
       "  1982.43,372.684 2126.43,372.684 \n",
       "  \"/>\n",
       "<g clip-path=\"url(#clip9101)\">\n",
       "<text style=\"fill:#000000; fill-opacity:1; font-family:Arial,Helvetica Neue,Helvetica,sans-serif; font-size:48px; text-anchor:start;\" transform=\"rotate(0, 2150.43, 390.184)\" x=\"2150.43\" y=\"390.184\">y4</text>\n",
       "</g>\n",
       "</svg>\n"
      ]
     },
     "execution_count": 431,
     "metadata": {},
     "output_type": "execute_result"
    }
   ],
   "source": [
    "using Plots\n",
    "plot(Y)\n",
    "plot!(Y1)\n",
    "plot!(Y2)\n",
    "plot!(Y3)"
   ]
  },
  {
   "cell_type": "markdown",
   "metadata": {
    "slideshow": {
     "slide_type": "subslide"
    }
   },
   "source": [
    "### Exercise 7\n",
    "\n",
    "This exercise is more challenging\n",
    "\n",
    "Take a random walk, starting from $ x_0 = 1 $\n",
    "\n",
    "$$\n",
    "x_{t+1} = \\, \\alpha \\, x_t + \\sigma\\, \\epsilon_{t+1}\n",
    "\\quad \\text{where} \\quad\n",
    "x_0 = 1\n",
    "\\quad \\text{and} \\quad t = 0,\\ldots,t_{\\max}\n",
    "$$\n",
    "\n",
    "- Furthermore, assume that the $ x_{t_{\\max}} = 0 $  (i.e. at $ t_{\\max} $, the value drops to zero, regardless of its current state)  \n",
    "- The sequence of shocks $ \\{\\epsilon_t\\} $ is assumed to be iid and standard normal  \n",
    "- For a given path $ \\{x_t\\} $ define a **first-passage time** as $ T_a = \\min\\{t\\, |\\, x_t \\leq a\\} $, where by the assumption of the process $ T_a \\leq t_{\\max} $  \n",
    "\n",
    "\n",
    "Start with $ \\sigma = 0.2, \\alpha = 1.0 $\n",
    "\n",
    "1. calculate the first-passage time, $ T_0 $, for 100 simulated random walks – to a $ t_{\\max} = 200 $ and plot a histogram  \n",
    "1. plot the sample mean of $ T_0 $ from the simulation for $ \\alpha \\in \\{0.8, 1.0, 1.2\\} $  \n",
    "\n",
    "\n",
    "\n",
    "<a id='jbe-ex8a'></a>"
   ]
  },
  {
   "cell_type": "markdown",
   "metadata": {
    "slideshow": {
     "slide_type": "subslide"
    }
   },
   "source": [
    "### Exercise 8(a)\n",
    "\n",
    "This exercise is more challenging\n",
    "\n",
    "The root of a univariate function $ f(\\cdot) $ is an $ x $ such that $ f(x) = 0 $\n",
    "\n",
    "One solution method to find local roots of smooth functions is called Newton’s method\n",
    "\n",
    "Starting with an $ x_0 $ guess, a function $ f(\\cdot) $ and the first-derivative $ f'(\\cdot) $, the algorithm is to repeat\n",
    "\n",
    "$$\n",
    "x^{n+1} = x^n - \\frac{f(x^n)}{f'(x^n)}\n",
    "$$\n",
    "\n",
    "until $ | x^{n+1} - x^n| $ is below a tolerance\n",
    "\n",
    "1. Use a variation of the `fixedpointmap` code to implement Newton’s method, where the function would accept arguments `f, f_prime, x_0, tolerance, maxiter`  \n",
    "1. Test it with $ f(x) = (x-1)^3 $ and another function of your choice where you can analytically find the derivative  "
   ]
  },
  {
   "cell_type": "markdown",
   "metadata": {
    "slideshow": {
     "slide_type": "subslide"
    }
   },
   "source": [
    "### Exercise 8(b)\n",
    "\n",
    "For those impatient to use more advanced features of Julia, implement a version of Exercise 8(a) where `f_prime` is calculated with auto-differentiation"
   ]
  },
  {
   "cell_type": "code",
   "execution_count": 66,
   "metadata": {
    "hide-output": false,
    "slideshow": {
     "slide_type": "subslide"
    }
   },
   "outputs": [
    {
     "data": {
      "text/plain": [
       "(0.010000000000000002, 0.2)"
      ]
     },
     "execution_count": 66,
     "metadata": {},
     "output_type": "execute_result"
    }
   ],
   "source": [
    "using ForwardDiff\n",
    "\n",
    "# operator to get the derivative of this function using AD\n",
    "D(f) = x -> ForwardDiff.derivative(f, x)\n",
    "\n",
    "# example usage: create a function and get the derivative\n",
    "f(x) = x^2\n",
    "f_prime = D(f)\n",
    "\n",
    "f(0.1), f_prime(0.1)"
   ]
  },
  {
   "cell_type": "markdown",
   "metadata": {
    "slideshow": {
     "slide_type": "subslide"
    }
   },
   "source": [
    "1. Using the `D(f)` operator definition above, implement a version of Newton’s method that does not require the user to provide an analytical derivative  \n",
    "1. Test the sorts of `f` functions which can be automatically integrated by `ForwardDff.jl`  "
   ]
  }
 ],
 "metadata": {
  "celltoolbar": "Slideshow",
  "filename": "julia_by_example.rst",
  "kernelspec": {
   "display_name": "Julia 1.1.0",
   "language": "julia",
   "name": "julia-1.1"
  },
  "language_info": {
   "file_extension": ".jl",
   "mimetype": "application/julia",
   "name": "julia",
   "version": "1.1.0"
  },
  "title": "Introductory Examples"
 },
 "nbformat": 4,
 "nbformat_minor": 2
}
